{
 "cells": [
  {
   "cell_type": "markdown",
   "metadata": {},
   "source": [
    "## Problem Statement\n",
    "\n",
    "There may not be enough skate parks in the New York City, particularly in Boroughs outside of Manhattan.  Some of the existing skate parks may be suffering from overcrowding.  Also, in certain cases, some neighborhoods may have access to a larger number of skate parks, which in turn could result in underutilization.  I am interested in seeing which neighborhoods might benefit from additional skate parks in their area versus neighborhoods that are fortunate to have more than enough.  \n",
    "\n",
    "For this assignment, I will focus of the borough of Brooklyn.  The methodology used can also be applied for other NYC boroughs and neighborhoods analysis.\n",
    "\n",
    "The data I will need for Brooklyn is as follows:\n",
    "\n",
    "<p style=\"text-indent: 40px\">•\tThe listing of Brooklyn neighborhoods</p>\n",
    "\n",
    "<p style=\"text-indent: 40px\">•\tThe current location of existing skate parks to see what neighborhoods they support\n",
    "\n",
    "<p style=\"text-indent: 40px\">•\tTotal number of skate parks in Brooklyn to determine\n",
    "\n",
    "<p style=\"text-indent: 40px\">•\tI will use the dataset from https://cocl.us/new_york_dataset because this contains all of the data related to the New York boroughs and neighborhoods.\n",
    "\n",
    "<p style=\"text-indent: 40px\">•\tI will use FourSquare’s API to pull in skate park names and location (latitude & longitude).  This will allow me to map the existing parks within a given neighborhood.  \n"
   ]
  },
  {
   "cell_type": "code",
   "execution_count": null,
   "metadata": {},
   "outputs": [],
   "source": []
  }
 ],
 "metadata": {
  "kernelspec": {
   "display_name": "Python 3",
   "language": "python",
   "name": "python3"
  },
  "language_info": {
   "codemirror_mode": {
    "name": "ipython",
    "version": 3
   },
   "file_extension": ".py",
   "mimetype": "text/x-python",
   "name": "python",
   "nbconvert_exporter": "python",
   "pygments_lexer": "ipython3",
   "version": "3.7.3"
  }
 },
 "nbformat": 4,
 "nbformat_minor": 4
}
